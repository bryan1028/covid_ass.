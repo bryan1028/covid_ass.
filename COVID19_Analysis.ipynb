{
 "cells": [
  {
   "cell_type": "markdown",
   "metadata": {},
   "source": [
    "# COVID-19 Case Analysis\n",
    "**By:** [Brian Ndegwa Mwalwala]  \n",
    "**Date:** [11/05/2025] #happymothersday"
   ]
  },
  {
   "cell_type": "markdown",
   "metadata": {},
   "source": [
    "## 1. Data Loading"
   ]
  },
  {
   "cell_type": "code",
   "execution_count": null,
   "metadata": {},
   "outputs": [],
   "source": [
    "import pandas as pd\n",
    "import matplotlib.pyplot as plt\n",
    "\n",
    "# Load dataset\n",
    "url = \"https://covid.ourworldindata.org/data/owid-covid-data.csv\"\n",
    "df = pd.read_csv(url)\n",
    "print(f\"Data loaded successfully! Last update: {df['date'].max()}\")\n",
    "df.head(2)"
   ]
  },
  {
   "cell_type": "markdown",
   "metadata": {},
   "source": [
    "## 2. Data Preparation"
   ]
  },
  {
   "cell_type": "code",
   "execution_count": null,
   "metadata": {},
   "outputs": [],
   "source": [
    "# Filter to target countries\n",
    "countries = ['Kenya', 'United States', 'India', 'Germany']\n",
    "analysis_df = df[df['location'].isin(countries)][['date','location','total_cases']]\n",
    "\n",
    "# Convert dates and scale cases to millions\n",
    "analysis_df['date'] = pd.to_datetime(analysis_df['date'])\n",
    "analysis_df['total_cases_millions'] = analysis_df['total_cases'] / 1e6\n",
    "\n",
    "analysis_df.head()"
   ]
  },
  {
   "cell_type": "markdown",
   "metadata": {},
   "source": [
    "## 3. Visualization"
   ]
  },
  {
   "cell_type": "code",
   "execution_count": null,
   "metadata": {},
   "outputs": [],
   "source": [
    "# Create the plot\n",
    "plt.figure(figsize=(10,5))\n",
    "\n",
    "for country in countries:\n",
    "    country_data = analysis_df[analysis_df['location'] == country]\n",
    "    plt.plot(country_data['date'], \n",
    "             country_data['total_cases_millions'], \n",
    "             label=country,\n",
    "             linewidth=2)\n",
    "\n",
    "# Formatting\n",
    "plt.title('COVID-19 Cases by Country (Millions)', fontsize=14)\n",
    "plt.ylabel('Total Cases (in millions)')\n",
    "plt.legend(title='Country')\n",
    "plt.grid(True, alpha=0.3)\n",
    "\n",
    "# Save and display\n",
    "plt.tight_layout()\n",
    "plt.savefig('covid_results.png', dpi=120)\n",
    "plt.show()"
   ]
  },
  {
   "cell_type": "markdown",
   "metadata": {},
   "source": [
    "## 4. Key Insights"
   ]
  },
  {
   "cell_type": "code",
   "execution_count": null,
   "metadata": {},
   "outputs": [],
   "source": [
    "# Calculate latest stats\n",
    "latest = analysis_df.sort_values('date').groupby('location').last()\n",
    "\n",
    "print(\"🔍 Key Findings:\")\n",
    "print(f\"- Highest cases: {latest['total_cases_millions'].idxmax()} ({latest['total_cases_millions'].max():.1f} million)\")\n",
    "print(f\"- Lowest cases: {latest['total_cases_millions'].idxmin()} ({latest['total_cases_millions'].min():.1f} million)\")"
   ]
  }
 ],
 "metadata": {
  "kernelspec": {
   "display_name": "Python 3",
   "language": "python",
   "name": "python3"
  },
  "language_info": {
   "codemirror_mode": {
    "name": "ipython",
    "version": 3
   },
   "file_extension": ".py",
   "mimetype": "text/x-python",
   "name": "python",
   "nbconvert_exporter": "python",
   "pygments_lexer": "ipython3",
   "version": "3.9.6"
  }
 },
 "nbformat": 4,
 "nbformat_minor": 4
}
